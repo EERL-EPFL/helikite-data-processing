{
 "cells": [
  {
   "cell_type": "code",
   "execution_count": null,
   "id": "ea5e3507-781f-46b4-845c-63e9734ca51f",
   "metadata": {},
   "outputs": [],
   "source": [
    "from helikite import Cleaner, instruments\n",
    "import os\n",
    "import datetime\n",
    "\n",
    "cleaner = Cleaner(\n",
    "    instruments=[\n",
    "        instruments.flight_computer_v1,\n",
    "        instruments.smart_tether,\n",
    "        instruments.pops,\n",
    "        instruments.msems_readings,\n",
    "        instruments.msems_inverted,\n",
    "        instruments.msems_scan,\n",
    "        instruments.stap,\n",
    "    ], \n",
    "    reference_instrument=instruments.flight_computer_v1,\n",
    "    input_folder=os.path.join(os.getcwd(), \"rawdata\"),\n",
    "    flight_date=datetime.date(2024,4,2),\n",
    "    time_takeoff=datetime.datetime(2024,4,2,10,0,35),\n",
    "    time_landing=datetime.datetime(2024,4,2,13,4,4),\n",
    "    time_offset=datetime.time(0),\n",
    ")\n",
    "\n",
    "cleaner.set_time_as_index()\n",
    "cleaner.data_corrections()\n",
    "cleaner.set_pressure_column()\n",
    "# cleaner.correct_time_and_pressure(max_lag=180)\n",
    "cleaner.remove_duplicates()\n",
    "cleaner.merge_instruments()\n",
    "cleaner.export_data()"
   ]
  },
  {
   "cell_type": "code",
   "execution_count": 7,
   "id": "eefa9b9d-cd52-4984-94cf-90d49071ea81",
   "metadata": {},
   "outputs": [],
   "source": [
    "from helikite.metadata.utils import load_parquet\n",
    "\n",
    "df, metadata = load_parquet(\"level0_2024-04-02T09-45.parquet\")"
   ]
  },
  {
   "cell_type": "code",
   "execution_count": 9,
   "id": "4b780d9b-f105-4553-9e6c-ec7be950978a",
   "metadata": {},
   "outputs": [
    {
     "data": {
      "text/html": [
       "flight: None<br>flight_date: 2024-04-02<br>takeoff_time: 2024-04-02 10:00:35<br>landing_time: 2024-04-02 13:04:04<br>reference_instrument: flight_computer<br>instruments: ['flight_computer', 'smart_tether', 'pops', 'msems_readings', 'msems_inverted', 'msems_scan', 'stap']"
      ],
      "text/plain": [
       "Flight None from 2024-04-02 10:00:35 to 2024-04-02 13:04:04"
      ]
     },
     "execution_count": 9,
     "metadata": {},
     "output_type": "execute_result"
    }
   ],
   "source": [
    "metadata"
   ]
  },
  {
   "cell_type": "code",
   "execution_count": 18,
   "id": "88aa5af2-dc7b-4569-99cf-365af5f7d64d",
   "metadata": {},
   "outputs": [
    {
     "name": "stdout",
     "output_type": "stream",
     "text": [
      "2024-04-02\n",
      "2024-04-02 13:04:04\n"
     ]
    },
    {
     "data": {
      "text/plain": [
       "Timestamp('2024-04-02 13:04:04')"
      ]
     },
     "execution_count": 18,
     "metadata": {},
     "output_type": "execute_result"
    }
   ],
   "source": [
    "# To use individual fields, just use the object (.) notation, for example\n",
    "print(metadata.flight_date)\n",
    "print(metadata.landing_time)\n",
    "metadata.landing_time\n"
   ]
  },
  {
   "cell_type": "code",
   "execution_count": 14,
   "id": "1cf4a2fa-bdfc-4fe4-ab62-e1b9b7b21b54",
   "metadata": {},
   "outputs": [
    {
     "data": {
      "text/plain": [
       "datetime.date(2024, 4, 2)"
      ]
     },
     "execution_count": 14,
     "metadata": {},
     "output_type": "execute_result"
    }
   ],
   "source": [
    "# Otherwise, to make a dictionary from the metadata:\n",
    "metadata_dict = metadata.model_dump()\n",
    "\n",
    "# Then use it as a normal Python dictionary\n",
    "metadata_dict['flight_date']"
   ]
  },
  {
   "cell_type": "code",
   "execution_count": null,
   "id": "af6747a5-bd41-49bd-80a5-9f8415c44cd5",
   "metadata": {},
   "outputs": [],
   "source": [
    "# The dataframe is unpacked into the 'df' variable from that function above\n",
    "df"
   ]
  }
 ],
 "metadata": {
  "kernelspec": {
   "display_name": "Python 3 (ipykernel)",
   "language": "python",
   "name": "python3"
  },
  "language_info": {
   "codemirror_mode": {
    "name": "ipython",
    "version": 3
   },
   "file_extension": ".py",
   "mimetype": "text/x-python",
   "name": "python",
   "nbconvert_exporter": "python",
   "pygments_lexer": "ipython3",
   "version": "3.11.11"
  }
 },
 "nbformat": 4,
 "nbformat_minor": 5
}
