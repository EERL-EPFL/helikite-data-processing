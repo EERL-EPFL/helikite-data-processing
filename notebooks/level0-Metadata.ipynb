{
 "cells": [
  {
   "cell_type": "code",
   "execution_count": null,
   "id": "ea5e3507-781f-46b4-845c-63e9734ca51f",
   "metadata": {},
   "outputs": [],
   "source": [
    "from helikite import Cleaner, instruments\n",
    "import os\n",
    "import datetime\n",
    "\n",
    "cleaner = Cleaner(\n",
    "    instruments=[\n",
    "        instruments.flight_computer_v1,\n",
    "        instruments.smart_tether,\n",
    "        instruments.pops,\n",
    "        instruments.msems_readings,\n",
    "        instruments.msems_inverted,\n",
    "        instruments.msems_scan,\n",
    "        instruments.stap,\n",
    "    ], \n",
    "    reference_instrument=instruments.flight_computer_v1,\n",
    "    input_folder=os.path.join(os.getcwd(), \"rawdata\"),\n",
    "    flight_date=datetime.date(2024,4,2),\n",
    "    time_takeoff=datetime.datetime(2024,4,2,10,0,35),\n",
    "    time_landing=datetime.datetime(2024,4,2,13,4,4),\n",
    "    time_offset=datetime.time(0),\n",
    ")\n",
    "\n",
    "cleaner.set_time_as_index()\n",
    "cleaner.data_corrections()\n",
    "cleaner.set_pressure_column()\n",
    "# cleaner.correct_time_and_pressure(max_lag=180)\n",
    "cleaner.remove_duplicates()\n",
    "cleaner.merge_instruments()\n",
    "cleaner.export_data()"
   ]
  },
  {
   "cell_type": "code",
   "execution_count": null,
   "id": "eefa9b9d-cd52-4984-94cf-90d49071ea81",
   "metadata": {},
   "outputs": [],
   "source": [
    "from helikite.metadata.utils import load_parquet\n",
    "\n",
    "df, metadata = load_parquet(\"level0_2024-04-02T09-45.parquet\")"
   ]
  },
  {
   "cell_type": "code",
   "execution_count": null,
   "id": "c331782f-5f77-4c14-bec6-eee7f7440911",
   "metadata": {},
   "outputs": [],
   "source": [
    "print(metadata)"
   ]
  }
 ],
 "metadata": {
  "kernelspec": {
   "display_name": "Python 3 (ipykernel)",
   "language": "python",
   "name": "python3"
  },
  "language_info": {
   "codemirror_mode": {
    "name": "ipython",
    "version": 3
   },
   "file_extension": ".py",
   "mimetype": "text/x-python",
   "name": "python",
   "nbconvert_exporter": "python",
   "pygments_lexer": "ipython3",
   "version": "3.11.11"
  }
 },
 "nbformat": 4,
 "nbformat_minor": 5
}
