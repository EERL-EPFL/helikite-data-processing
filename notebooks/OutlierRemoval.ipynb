{
 "cells": [
  {
   "cell_type": "markdown",
   "id": "9d5c442c-b431-4d62-892c-81523fd5c262",
   "metadata": {},
   "source": [
    "## Outlier removal\n",
    "\n",
    "To remove outliers, load the level 0 CSV file, making sure to set the index to the DateTime. \n",
    "\n",
    "This function will load all the data, plot an individual variable, and then save a CSV of any outliers that are chosen as True. This outlier CSV can be used to mask the values in the original dataframe. An example of this is shown in the second cell.\n",
    "\n",
    "_Note: No data is changed in the input dataframe._"
   ]
  },
  {
   "cell_type": "code",
   "execution_count": null,
   "id": "e571b3bd-acb6-42ec-8ed1-dada2cc75f44",
   "metadata": {},
   "outputs": [],
   "source": [
    "import pandas as pd\n",
    "import os\n",
    "import numpy as np\n",
    "from helikite.processing import choose_outliers\n",
    "\n",
    "INPUT_DATA_FILENAME = os.path.join(os.getcwd(), \"level0\", \"20240402A_level_0.csv\")\n",
    "OUTLIER_FILENAME = os.path.join(os.getcwd(), \"outliers.csv\")\n",
    "df = pd.read_csv(INPUT_DATA_FILENAME, low_memory=False, parse_dates=True, index_col=0)\n",
    "choose_outliers(df=df, y=\"FC_Pressure\", outlier_file=OUTLIER_FILENAME)"
   ]
  },
  {
   "cell_type": "markdown",
   "id": "c7133d64-3e1c-4bc6-85f1-aa57aca544d7",
   "metadata": {},
   "source": [
    "# Mask the original DataFrame\n",
    "\n",
    "Loading the CSV file, ensuring the index is set to the DateTime column (using parse_dates lets Pandas discover the index is a date column instead of just strings), we can mask any values that are True. "
   ]
  },
  {
   "cell_type": "code",
   "execution_count": null,
   "id": "817e67c7-3796-4cf5-b7da-3a3a7c390a4e",
   "metadata": {},
   "outputs": [],
   "source": [
    "outliers = pd.read_csv(OUTLIER_FILENAME, index_col=0, parse_dates=True)\n",
    "outliers"
   ]
  },
  {
   "cell_type": "code",
   "execution_count": null,
   "id": "f12b0622-e303-4104-93bc-654e06d78d9a",
   "metadata": {},
   "outputs": [],
   "source": [
    "# Set the values in the df to be np.nan (this is default\n",
    "df.loc[outliers.index] = df.loc[outliers.index].mask(outliers)                 # By default the outliers will be nan\n",
    "# df.loc[outliers.index] = df.loc[outliers.index].mask(outliers, other=99999)  # Example: set outliers to 99999"
   ]
  },
  {
   "cell_type": "code",
   "execution_count": null,
   "id": "ebfd9dc8-dc6f-4d8f-90b9-1cd82795fb2d",
   "metadata": {},
   "outputs": [],
   "source": [
    "# The DF is updated now with the values (but to find them we would probably need to filter)\n",
    "df"
   ]
  },
  {
   "cell_type": "code",
   "execution_count": null,
   "id": "8f55d1fb-a7d4-4233-b8fe-486d84a7156c",
   "metadata": {},
   "outputs": [],
   "source": [
    "# Filter the changed df by the index of the outliers to validate they changed\n",
    "df.loc[outliers.index]"
   ]
  }
 ],
 "metadata": {
  "kernelspec": {
   "display_name": "Python 3 (ipykernel)",
   "language": "python",
   "name": "python3"
  },
  "language_info": {
   "codemirror_mode": {
    "name": "ipython",
    "version": 3
   },
   "file_extension": ".py",
   "mimetype": "text/x-python",
   "name": "python",
   "nbconvert_exporter": "python",
   "pygments_lexer": "ipython3",
   "version": "3.12.7"
  }
 },
 "nbformat": 4,
 "nbformat_minor": 5
}
