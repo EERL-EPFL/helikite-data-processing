{
 "cells": [
  {
   "cell_type": "code",
   "execution_count": 1,
   "id": "ea5e3507-781f-46b4-845c-63e9734ca51f",
   "metadata": {},
   "outputs": [
    {
     "ename": "SyntaxError",
     "evalue": "'(' was never closed (cleaning.py, line 715)",
     "output_type": "error",
     "traceback": [
      "Traceback \u001b[0;36m(most recent call last)\u001b[0m:\n",
      "\u001b[0m  File \u001b[1;32m~/.cache/pypoetry/virtualenvs/helikite-data-processing-zlZJfgOY-py3.12/lib/python3.12/site-packages/IPython/core/interactiveshell.py:3577\u001b[0m in \u001b[1;35mrun_code\u001b[0m\n    exec(code_obj, self.user_global_ns, self.user_ns)\u001b[0m\n",
      "\u001b[0m  Cell \u001b[1;32mIn[1], line 1\u001b[0m\n    from helikite import Cleaner, instruments\u001b[0m\n",
      "\u001b[0;36m  File \u001b[0;32m~/projects/EERL/Helikite/helikite-data-processing/helikite/__init__.py:2\u001b[0;36m\n\u001b[0;31m    from helikite.classes.cleaning import Cleaner  # noqa\u001b[0;36m\n",
      "\u001b[0;36m  File \u001b[0;32m~/projects/EERL/Helikite/helikite-data-processing/helikite/classes/cleaning.py:715\u001b[0;36m\u001b[0m\n\u001b[0;31m    instrument.df.index = instrument.df.index + pd.Timedelta(\u001b[0m\n\u001b[0m                                                            ^\u001b[0m\n\u001b[0;31mSyntaxError\u001b[0m\u001b[0;31m:\u001b[0m '(' was never closed\n"
     ]
    }
   ],
   "source": [
    "from helikite import Cleaner, instruments\n",
    "import os\n",
    "import datetime\n",
    "\n",
    "cleaner = Cleaner(\n",
    "    instruments=[\n",
    "        instruments.flight_computer_v1,\n",
    "        instruments.smart_tether,\n",
    "        instruments.pops,\n",
    "        instruments.msems_readings,\n",
    "        # instruments.msems_inverted,\n",
    "        instruments.msems_scan,\n",
    "        instruments.stap,\n",
    "    ], \n",
    "    reference_instrument=instruments.flight_computer_v1,\n",
    "    input_folder=os.path.join(os.getcwd(), \"rawdata\"),\n",
    "    flight_date=datetime.date(2024,4,2),\n",
    "    time_takeoff=datetime.datetime(2024,4,2,10,0,35),\n",
    "    time_landing=datetime.datetime(2024,4,2,13,4,4),\n",
    "    time_offset=datetime.time(0),\n",
    ")\n",
    "\n",
    "cleaner.set_time_as_index()\n",
    "cleaner.data_corrections()\n",
    "cleaner.set_pressure_column()\n",
    "cleaner.remove_duplicates()\n",
    "cleaner.plot_pressure()\n",
    "# cleaner.correct_time_and_pressure(max_lag=10, offsets=[\n",
    "#     (instruments.stap, 60), \n",
    "#     (instruments.smart_tether, 60),\n",
    "#     (instruments.pops, 60),\n",
    "#     (instruments.msems_scan, 60),\n",
    "#     (instruments.msems_inverted, 60),\n",
    "#     (instruments.msems_readings, 60),\n",
    "# ])\n",
    "cleaner.correct_time_and_pressure(\n",
    "    max_lag=10,\n",
    "    offsets=[\n",
    "        (instruments.stap, 60),\n",
    "        (instruments.smart_tether, 60),\n",
    "        (instruments.pops, 60),\n",
    "        (instruments.msems_scan, 60),\n",
    "        # Remove (instruments.msems_inverted, 60),\n",
    "        (instruments.msems_readings, 60),\n",
    "    ],\n",
    "    # detrend_pressure_on=[\n",
    "        # instruments.smart_tether,\n",
    "        # instruments.msems_readings,\n",
    "        # instruments.stap,\n",
    "    # ],\n",
    "    # walk_time_seconds=60,  # Adjust if necessary\n",
    ")\n",
    "cleaner.plot_pressure()\n",
    "\n",
    "cleaner.merge_instruments()\n",
    "cleaner.export_data()"
   ]
  },
  {
   "cell_type": "code",
   "execution_count": null,
   "id": "5e6f6964-9266-44d6-a262-019dbbf19c03",
   "metadata": {},
   "outputs": [],
   "source": [
    "cleaner.plot_pressure()"
   ]
  }
 ],
 "metadata": {
  "kernelspec": {
   "display_name": "Python 3 (ipykernel)",
   "language": "python",
   "name": "python3"
  },
  "language_info": {
   "codemirror_mode": {
    "name": "ipython",
    "version": 3
   },
   "file_extension": ".py",
   "mimetype": "text/x-python",
   "name": "python",
   "nbconvert_exporter": "python",
   "pygments_lexer": "ipython3",
   "version": "3.12.7"
  }
 },
 "nbformat": 4,
 "nbformat_minor": 5
}
