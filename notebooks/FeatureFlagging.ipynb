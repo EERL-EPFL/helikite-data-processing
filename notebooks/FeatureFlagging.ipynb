{
 "cells": [
  {
   "cell_type": "markdown",
   "id": "9d5c442c-b431-4d62-892c-81523fd5c262",
   "metadata": {},
   "source": [
    "## Outlier removal\n",
    "\n",
    "To remove outliers, load the level 0 CSV file, making sure to set the index to the DateTime. \n",
    "\n",
    "This function will load all the data, plot an individual variable, and then save a CSV of any outliers that are chosen as True. This outlier CSV can be used to mask the values in the original dataframe. An example of this is shown in the second cell.\n",
    "\n",
    "_Note: No data is changed in the input dataframe._"
   ]
  },
  {
   "cell_type": "code",
   "execution_count": null,
   "id": "e571b3bd-acb6-42ec-8ed1-dada2cc75f44",
   "metadata": {},
   "outputs": [],
   "source": [
    "import pandas as pd\n",
    "import os\n",
    "import numpy as np\n",
    "from helikite.processing import choose_flags\n",
    "\n",
    "INPUT_DATA_FILENAME = os.path.join(os.getcwd(), \"level0\", \"20240402A_level_0.csv\")\n",
    "FLAG_FILENAME = os.path.join(os.getcwd(), \"flags.csv\")\n",
    "df = pd.read_csv(INPUT_DATA_FILENAME, low_memory=False, parse_dates=True, index_col=0)\n",
    "\n",
    "# Assign 'hovering' to selected points\n",
    "choose_flags(df=df, y=\"FC_Pressure\", flag_file=FLAG_FILENAME, key='instrument_state', value=\"hovering\")"
   ]
  },
  {
   "cell_type": "markdown",
   "id": "c7133d64-3e1c-4bc6-85f1-aa57aca544d7",
   "metadata": {},
   "source": [
    "# Mask the original DataFrame\n",
    "\n",
    "Loading the CSV file, ensuring the index is set to the DateTime column (using parse_dates lets Pandas discover the index is a date column instead of just strings), we can mask any values that are True. "
   ]
  },
  {
   "cell_type": "code",
   "execution_count": null,
   "id": "817e67c7-3796-4cf5-b7da-3a3a7c390a4e",
   "metadata": {},
   "outputs": [],
   "source": [
    "flags = pd.read_csv(FLAG_FILENAME, index_col=0, parse_dates=True)\n",
    "flags"
   ]
  },
  {
   "cell_type": "code",
   "execution_count": null,
   "id": "8f55d1fb-a7d4-4233-b8fe-486d84a7156c",
   "metadata": {},
   "outputs": [],
   "source": [
    "# Add the additional columns to the original df by their common index\n",
    "df = df.merge(flags, left_index=True, right_index=True)\n",
    "df"
   ]
  }
 ],
 "metadata": {
  "kernelspec": {
   "display_name": "Python 3 (ipykernel)",
   "language": "python",
   "name": "python3"
  },
  "language_info": {
   "codemirror_mode": {
    "name": "ipython",
    "version": 3
   },
   "file_extension": ".py",
   "mimetype": "text/x-python",
   "name": "python",
   "nbconvert_exporter": "python",
   "pygments_lexer": "ipython3",
   "version": "3.12.7"
  }
 },
 "nbformat": 4,
 "nbformat_minor": 5
}
