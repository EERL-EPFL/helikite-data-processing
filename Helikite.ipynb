{
 "cells": [
  {
   "cell_type": "code",
   "execution_count": null,
   "id": "e11719ca",
   "metadata": {
    "scrolled": true
   },
   "outputs": [],
   "source": [
    "import pandas as pd\n",
    "import csv\n",
    "from helikite import config\n",
    "\n",
    "## STAP\n",
    "# pd.read_csv('data/STAP_220929A0_processed.txt', **config.STAP.dict())\n",
    "\n",
    "## MCPC\n",
    "# pd.read_csv('data/220202A0.TXT', **config.MCPC.dict())\n",
    "\n",
    "# Flight Computer\n",
    "# pd.read_csv('data/LOG_20220929.txt', **config.FlightComputer.dict())\n",
    "\n",
    "# Pico\n",
    "# pd.read_csv('data/Pico100217_220204_152813Eng.txt', **config.Pico.dict())\n",
    "\n",
    "# POPS\n",
    "# pd.read_csv('data/HK_20220929x001.csv', **config.POPS.dict())\n",
    "\n",
    "# Smart Tether\n",
    "# pd.read_csv('data/LOG_20220929_A.csv', **config.SmartTether.dict())\n",
    "\n",
    "# Ozone Monitor\n",
    "# pd.read_csv('data/LOG46.txt', **config.OzoneMonitor.dict())\n",
    "\n",
    "# mSEMS\n",
    "# pd.read_csv('data/mSEMS_103_220929_101343_READINGS.txt', **config.MSEMS.dict())"
   ]
  }
 ],
 "metadata": {
  "kernelspec": {
   "display_name": "Python 3 (ipykernel)",
   "language": "python",
   "name": "python3"
  },
  "language_info": {
   "codemirror_mode": {
    "name": "ipython",
    "version": 3
   },
   "file_extension": ".py",
   "mimetype": "text/x-python",
   "name": "python",
   "nbconvert_exporter": "python",
   "pygments_lexer": "ipython3",
   "version": "3.10.9"
  }
 },
 "nbformat": 4,
 "nbformat_minor": 5
}
