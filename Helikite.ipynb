{
 "cells": [
  {
   "cell_type": "code",
   "execution_count": null,
   "id": "e11719ca",
   "metadata": {
    "scrolled": true
   },
   "outputs": [],
   "source": [
    "import pandas as pd\n",
    "import csv\n",
    "import yaml\n",
    "import importlib\n",
    "from helikite import config\n",
    "import plotly.graph_objects as go\n",
    "\n",
    "pd.options.plotting.backend = \"plotly\"\n",
    "\n",
    "## STAP\n",
    "# stap = pd.read_csv('data/STAP_220929A0_processed.txt', **config.STAP.dict())\n",
    "\n",
    "## MCPC\n",
    "# pd.read_csv('data/220202A0.TXT', **config.MCPC.dict())\n",
    "\n",
    "# Flight Computer\n",
    "fc = pd.read_csv('./helikite/inputs/LOG_20220929.txt', \n",
    "        dtype=config.FlightComputer.dtype,\n",
    "        na_values=config.FlightComputer.na_values,\n",
    "        header=config.FlightComputer.header,\n",
    "        delimiter=config.FlightComputer.delimiter,\n",
    "        lineterminator=config.FlightComputer.lineterminator,\n",
    "        comment=config.FlightComputer.comment,\n",
    "        names=config.FlightComputer.names,\n",
    "        index_col=config.FlightComputer.index_col,)\n",
    "\n",
    "# Set datetime based on unix time\n",
    "fc['DateTime'] = pd.to_datetime(fc['DateTime'], unit='s')\n",
    "\n",
    "# Pico\n",
    "# pd.read_csv('data/Pico100217_220204_152813Eng.txt', **config.Pico.dict())\n",
    "\n",
    "# POPS\n",
    "# pd.read_csv('data/HK_20220929x001.csv', **config.POPS.dict())\n",
    "\n",
    "# Smart Tether\n",
    "# pd.read_csv('data/LOG_20220929_A.csv', **config.SmartTether.dict())\n",
    "\n",
    "# Ozone Monitor\n",
    "# pd.read_csv('data/LOG46.txt', **config.OzoneMonitor.dict())\n",
    "\n",
    "# mSEMS\n",
    "# pd.read_csv('data/mSEMS_103_220929_101343_READINGS.txt', **config.MSEMS.dict())"
   ]
  },
  {
   "cell_type": "code",
   "execution_count": null,
   "id": "9f7beb57",
   "metadata": {},
   "outputs": [],
   "source": [
    "fig = go.Figure()\n",
    "\n",
    "# Add TEMPBox\n",
    "fig.add_trace(\n",
    "    go.Scatter(\n",
    "        x=fc.DateTime, \n",
    "        y=fc.TEMPbox,\n",
    "        name=\"TEMPBox\"))\n",
    "\n",
    "# Add TEMPBox\n",
    "fig.add_trace(\n",
    "    go.Scatter(\n",
    "        x=fc.DateTime, \n",
    "        y=fc.vBat,\n",
    "        name=\"vBat\"))\n",
    "\n",
    "fig.update_layout(title=\"Flight Computer\")\n",
    "\n",
    "with open('./output/helikite.html', 'w') as f:\n",
    "    f.write(fig.to_html(full_html=False, include_plotlyjs=True))\n",
    "# fig.write_html('./output/helikite.html')"
   ]
  },
  {
   "cell_type": "code",
   "execution_count": null,
   "id": "ae149c89",
   "metadata": {},
   "outputs": [],
   "source": [
    "# Export map to local file\n",
    "\n",
    "import plotly.express as px\n",
    "\n"
   ]
  }
 ],
 "metadata": {
  "kernelspec": {
   "display_name": "Python 3 (ipykernel)",
   "language": "python",
   "name": "python3"
  },
  "language_info": {
   "codemirror_mode": {
    "name": "ipython",
    "version": 3
   },
   "file_extension": ".py",
   "mimetype": "text/x-python",
   "name": "python",
   "nbconvert_exporter": "python",
   "pygments_lexer": "ipython3",
   "version": "3.10.9"
  }
 },
 "nbformat": 4,
 "nbformat_minor": 5
}
